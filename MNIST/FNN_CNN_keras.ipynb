{
 "cells": [
  {
   "cell_type": "markdown",
   "metadata": {},
   "source": [
    "# Use a feed forward neural net built in keras to study MNIST"
   ]
  },
  {
   "cell_type": "code",
   "execution_count": 32,
   "metadata": {},
   "outputs": [],
   "source": [
    "import numpy as np\n",
    "import time\n",
    "import matplotlib.pyplot as plt\n",
    "%matplotlib inline\n",
    "plt.style.use('ggplot')\n",
    "\n",
    "import keras.callbacks as cb\n",
    "from keras.datasets import mnist\n",
    "from keras.layers import Activation, Dense, Dropout, Flatten, MaxPooling2D\n",
    "from keras.layers.convolutional import Conv2D\n",
    "#from keras.layers.pooling import MaxPooling2D\n",
    "from keras.models import Sequential\n",
    "from keras.optimizers import SGD\n",
    "from keras.regularizers import l1, l2\n",
    "from keras.utils import np_utils"
   ]
  },
  {
   "cell_type": "markdown",
   "metadata": {},
   "source": [
    "## Preprocessing\n",
    "- Min-max normalization\n",
    "- Standardization"
   ]
  },
  {
   "cell_type": "code",
   "execution_count": 22,
   "metadata": {},
   "outputs": [],
   "source": [
    "from sklearn import preprocessing\n",
    "(X_train, y_train), (X_test, y_test) = mnist.load_data()"
   ]
  },
  {
   "cell_type": "code",
   "execution_count": 3,
   "metadata": {},
   "outputs": [
    {
     "name": "stdout",
     "output_type": "stream",
     "text": [
      "<class 'numpy.ndarray'>\n",
      "(60000, 28, 28)\n",
      "(10000, 28, 28)\n"
     ]
    }
   ],
   "source": [
    "print(type(X_train))\n",
    "print(X_train.shape)\n",
    "print(X_test.shape)"
   ]
  },
  {
   "cell_type": "code",
   "execution_count": 4,
   "metadata": {},
   "outputs": [
    {
     "name": "stdout",
     "output_type": "stream",
     "text": [
      "<class 'numpy.ndarray'>\n",
      "(60000,)\n",
      "(10000,)\n"
     ]
    }
   ],
   "source": [
    "print(type(y_train))\n",
    "print(y_train.shape)\n",
    "print(y_test.shape)"
   ]
  },
  {
   "cell_type": "markdown",
   "metadata": {},
   "source": [
    "Transform y using one-hot encoding"
   ]
  },
  {
   "cell_type": "code",
   "execution_count": 23,
   "metadata": {},
   "outputs": [],
   "source": [
    "y_train = np_utils.to_categorical(y_train, 10)\n",
    "y_test = np_utils.to_categorical(y_test, 10)"
   ]
  },
  {
   "cell_type": "markdown",
   "metadata": {},
   "source": [
    "Min-max normalization (each pixel if a number from 0 to 255)"
   ]
  },
  {
   "cell_type": "code",
   "execution_count": 24,
   "metadata": {},
   "outputs": [],
   "source": [
    "X_train = X_train.astype('float32')\n",
    "X_test = X_test.astype('float32')\n",
    "\n",
    "X_train /= 255\n",
    "X_test /= 255"
   ]
  },
  {
   "cell_type": "markdown",
   "metadata": {},
   "source": [
    "Standardization"
   ]
  },
  {
   "cell_type": "code",
   "execution_count": 7,
   "metadata": {
    "scrolled": true
   },
   "outputs": [],
   "source": [
    "#from sklearn import preprocessing\n",
    "#X_train = preprocessing.scale(X_train)\n",
    "#X_test = preprocessing.scale(X_test)"
   ]
  },
  {
   "cell_type": "markdown",
   "metadata": {},
   "source": [
    "Reshape X for FNN or CNN"
   ]
  },
  {
   "cell_type": "code",
   "execution_count": 26,
   "metadata": {},
   "outputs": [],
   "source": [
    "def reshape_X_FNN(X_train, X_test):\n",
    "    X_train = np.reshape(X_train, (60000, 784))\n",
    "    X_test = np.reshape(X_test, (10000, 784))\n",
    "    return X_train, X_test\n",
    "    \n",
    "def reshape_X_CNN(X_train, X_test):\n",
    "    X_train = np.reshape(X_train, (60000, 28, 28, 1))\n",
    "    X_test = np.reshape(X_test, (10000, 28, 28, 1))\n",
    "    return X_train, X_test"
   ]
  },
  {
   "cell_type": "code",
   "execution_count": 27,
   "metadata": {},
   "outputs": [],
   "source": [
    "#X_train, X_test = reshape_X_FNN(X_train, X_test)\n",
    "X_train, X_test = reshape_X_CNN(X_train, X_test)"
   ]
  },
  {
   "cell_type": "markdown",
   "metadata": {},
   "source": [
    "## Build the neural network"
   ]
  },
  {
   "cell_type": "markdown",
   "metadata": {},
   "source": [
    "Key parameters for a FNN (Sequential)\n",
    "- Layer width\n",
    "- Activation function: sigmoid, relu, tanh\n",
    "- Loss fuction: categorical_crossentropy, mean_square_error\n",
    "- Optimizer: SGD\n",
    "- Dropout: Usually 0.1-0.3\n",
    "- Regularazation: l1(0.01), l2(0.01)\n",
    "- Learning rate: "
   ]
  },
  {
   "cell_type": "markdown",
   "metadata": {},
   "source": [
    "CNN exclusive\n",
    "- Filters\n",
    "- Stride\n",
    "- Padding\n",
    "- Maxpooling"
   ]
  },
  {
   "cell_type": "markdown",
   "metadata": {},
   "source": [
    "Function to build a FNN"
   ]
  },
  {
   "cell_type": "code",
   "execution_count": 13,
   "metadata": {},
   "outputs": [],
   "source": [
    "def build_FNN():\n",
    "    # parameters\n",
    "    first_layer_width = 128\n",
    "    second_layer_width = 64\n",
    "    activition_func = 'relu'\n",
    "    loss_func = 'categorical_crossentropy'\n",
    "    dropout_rate = 0.1\n",
    "    #weight_regularizer = l2(0.01)\n",
    "    weight_regularizer = None\n",
    "    learning_rate = 0.1\n",
    "    \n",
    "    # Start to build the model\n",
    "    model = Sequential()\n",
    "    # first hidden layer\n",
    "    model.add(Dense(first_layer_width,\n",
    "                    activation = 'relu',\n",
    "                    input_dim = 784,\n",
    "                    kernel_regularizer = weight_regularizer\n",
    "                   ))\n",
    "    if dropout_rate > 0:\n",
    "        model.add(Dropout(0.1))\n",
    "    \n",
    "    # second hidden layer\n",
    "    model.add(Dense(second_layer_width,\n",
    "                   activation = 'relu',\n",
    "                   kernel_regularizer = weight_regularizer))\n",
    "    if dropout_rate > 0:\n",
    "        model.add(Dropout(0.1))\n",
    "        \n",
    "    # softmax layer\n",
    "    model.add(Dense(10,\n",
    "                   activation = 'softmax'\n",
    "                   ))\n",
    "    optimizer = SGD(lr=learning_rate, clipnorm=5)\n",
    "    \n",
    "    # compile the model, to add loss and optimizer\n",
    "    model.compile(loss = loss_func,\n",
    "                  optimizer = optimizer,\n",
    "                  metrics = ['accuracy']\n",
    "                 )\n",
    "    \n",
    "    return model"
   ]
  },
  {
   "cell_type": "markdown",
   "metadata": {},
   "source": [
    "Function to build a CNN"
   ]
  },
  {
   "cell_type": "code",
   "execution_count": 41,
   "metadata": {},
   "outputs": [],
   "source": [
    "def build_CNN():\n",
    "    #parameters\n",
    "    num_filters = 15\n",
    "    filter_size = 3\n",
    "    learning_rate = 0.1\n",
    "    loss_func = 'categorical_crossentropy'\n",
    "    \n",
    "    # Start to build the model\n",
    "    model = Sequential()\n",
    "    \n",
    "    # Add the convolution layer\n",
    "    model.add(Conv2D(num_filters,\n",
    "                     (filter_size, filter_size),\n",
    "                     activation = 'relu',\n",
    "                     input_shape = (28, 28, 1),\n",
    "                     padding = 'valid'\n",
    "                    ))\n",
    "    # Add the maxpooling\n",
    "    #model.add(Maxpooling2D(pool_size=(2, 2)))\n",
    "    model.add(MaxPooling2D(pool_size=(2, 2)))\n",
    "    \n",
    "    # Flatten and add softmax layer\n",
    "    model.add(Flatten())\n",
    "    model.add(Dense(10, activation='softmax'))\n",
    "    optimizer = SGD(lr=learning_rate, clipnorm=5.)\n",
    "    \n",
    "    # Compile the model\n",
    "    model.compile(loss=loss_func, optimizer=optimizer, metrics=['accuracy'])\n",
    "    \n",
    "    return model"
   ]
  },
  {
   "cell_type": "markdown",
   "metadata": {},
   "source": [
    "## Train the model"
   ]
  },
  {
   "cell_type": "code",
   "execution_count": 17,
   "metadata": {},
   "outputs": [
    {
     "name": "stdout",
     "output_type": "stream",
     "text": [
      "Train on 55000 samples, validate on 5000 samples\n",
      "Epoch 1/20\n",
      "55000/55000 [==============================] - 3s 46us/step - loss: 0.5357 - acc: 0.8413 - val_loss: 0.2030 - val_acc: 0.9454\n",
      "Epoch 2/20\n",
      "55000/55000 [==============================] - 2s 40us/step - loss: 0.2685 - acc: 0.9212 - val_loss: 0.1525 - val_acc: 0.9564\n",
      "Epoch 3/20\n",
      "55000/55000 [==============================] - 2s 40us/step - loss: 0.2058 - acc: 0.9403 - val_loss: 0.1218 - val_acc: 0.9656\n",
      "Epoch 4/20\n",
      "55000/55000 [==============================] - 2s 43us/step - loss: 0.1728 - acc: 0.9495 - val_loss: 0.1085 - val_acc: 0.9698\n",
      "Epoch 5/20\n",
      "55000/55000 [==============================] - 2s 43us/step - loss: 0.1491 - acc: 0.9565 - val_loss: 0.1020 - val_acc: 0.9698\n",
      "Epoch 6/20\n",
      "55000/55000 [==============================] - 2s 41us/step - loss: 0.1338 - acc: 0.9599 - val_loss: 0.0874 - val_acc: 0.9740\n",
      "Epoch 7/20\n",
      "55000/55000 [==============================] - 2s 39us/step - loss: 0.1198 - acc: 0.9638 - val_loss: 0.0837 - val_acc: 0.9750\n",
      "Epoch 8/20\n",
      "55000/55000 [==============================] - 2s 38us/step - loss: 0.1079 - acc: 0.9674 - val_loss: 0.0783 - val_acc: 0.9782\n",
      "Epoch 9/20\n",
      "55000/55000 [==============================] - 2s 41us/step - loss: 0.0989 - acc: 0.9699 - val_loss: 0.0789 - val_acc: 0.9774\n",
      "Epoch 10/20\n",
      "55000/55000 [==============================] - 2s 39us/step - loss: 0.0922 - acc: 0.9717 - val_loss: 0.0725 - val_acc: 0.9768\n",
      "Epoch 11/20\n",
      "55000/55000 [==============================] - 2s 38us/step - loss: 0.0844 - acc: 0.9738 - val_loss: 0.0763 - val_acc: 0.9788\n",
      "Epoch 12/20\n",
      "55000/55000 [==============================] - 2s 39us/step - loss: 0.0790 - acc: 0.9750 - val_loss: 0.0690 - val_acc: 0.9790\n",
      "Epoch 13/20\n",
      "55000/55000 [==============================] - 2s 44us/step - loss: 0.0742 - acc: 0.9769 - val_loss: 0.0697 - val_acc: 0.9798\n",
      "Epoch 14/20\n",
      "55000/55000 [==============================] - 2s 41us/step - loss: 0.0705 - acc: 0.9784 - val_loss: 0.0684 - val_acc: 0.9788\n",
      "Epoch 15/20\n",
      "55000/55000 [==============================] - 2s 39us/step - loss: 0.0674 - acc: 0.9788 - val_loss: 0.0649 - val_acc: 0.9794\n",
      "Epoch 16/20\n",
      "55000/55000 [==============================] - 2s 38us/step - loss: 0.0622 - acc: 0.9805 - val_loss: 0.0674 - val_acc: 0.9804\n",
      "Epoch 17/20\n",
      "55000/55000 [==============================] - 2s 39us/step - loss: 0.0593 - acc: 0.9812 - val_loss: 0.0653 - val_acc: 0.9808\n",
      "Epoch 18/20\n",
      "55000/55000 [==============================] - 2s 41us/step - loss: 0.0564 - acc: 0.9826 - val_loss: 0.0691 - val_acc: 0.9822\n",
      "Epoch 19/20\n",
      "55000/55000 [==============================] - 2s 39us/step - loss: 0.0539 - acc: 0.9839 - val_loss: 0.0646 - val_acc: 0.9812\n",
      "Epoch 20/20\n",
      "55000/55000 [==============================] - 2s 42us/step - loss: 0.0493 - acc: 0.9851 - val_loss: 0.0640 - val_acc: 0.9828\n",
      "The training took 45.05496335029602 seconds\n"
     ]
    }
   ],
   "source": [
    "num_batches = 128\n",
    "num_epochs = 20\n",
    "#model = build_FNN()\n",
    "model = build_CNN()\n",
    "\n",
    "start_time = time.time()\n",
    "\n",
    "# Use 55000 records to train and 5000 for validation\n",
    "training = model.fit(X_train[:55000], y_train[:55000], epochs=num_epochs, batch_size=num_batches,\n",
    "                    validation_data=(X_train[55000:], y_train[55000:]))\n",
    "print('The training took {0} seconds'.format(time.time() - start_time))"
   ]
  },
  {
   "cell_type": "markdown",
   "metadata": {},
   "source": [
    "## Plot loss/accuracy vs # of epochs"
   ]
  },
  {
   "cell_type": "code",
   "execution_count": 18,
   "metadata": {
    "scrolled": true
   },
   "outputs": [
    {
     "data": {
      "image/png": "[encoded data removed]",
      "text/plain": [
       "<matplotlib.figure.Figure at 0x11740470>"
      ]
     },
     "metadata": {},
     "output_type": "display_data"
    }
   ],
   "source": [
    "loss_train = training.history['loss']\n",
    "val_loss_train = training.history['val_loss']\n",
    "\n",
    "fig, ax = plt.subplots()\n",
    "ax.plot(loss_train, 'o-', label='Training loss')\n",
    "ax.plot(val_loss_train, 'x-', label='Validation loss')\n",
    "ax.legend()\n",
    "ax.set_title('Training/Validaion loss vs # of epochs')\n",
    "ax.set_xlabel('# of epochs')\n",
    "ax.set_ylabel('Loss')\n",
    "\n",
    "plt.show()"
   ]
  },
  {
   "cell_type": "code",
   "execution_count": 19,
   "metadata": {},
   "outputs": [
    {
     "data": {
      "image/png": "[encoded data removed]",
      "text/plain": [
       "<matplotlib.figure.Figure at 0x11089e48>"
      ]
     },
     "metadata": {},
     "output_type": "display_data"
    }
   ],
   "source": [
    "acc_train = training.history['acc']\n",
    "val_acc_train = training.history['val_acc']\n",
    "\n",
    "fig, ax = plt.subplots()\n",
    "ax.plot(acc_train, 'o-', label='Training accuracy')\n",
    "ax.plot(val_acc_train, 'x-', label='Validation accuracy')\n",
    "ax.legend()\n",
    "ax.set_title('Training/Validaion accuracy vs # of epochs')\n",
    "ax.set_xlabel('# of epochs')\n",
    "ax.set_ylabel('Loss')\n",
    "\n",
    "plt.show()"
   ]
  },
  {
   "cell_type": "markdown",
   "metadata": {},
   "source": [
    "## Apply the model on the test data"
   ]
  },
  {
   "cell_type": "code",
   "execution_count": 20,
   "metadata": {},
   "outputs": [
    {
     "name": "stdout",
     "output_type": "stream",
     "text": [
      "10000/10000 [==============================] - 0s 30us/step\n"
     ]
    }
   ],
   "source": [
    "test_score = model.evaluate(X_test, y_test)"
   ]
  },
  {
   "cell_type": "code",
   "execution_count": 21,
   "metadata": {},
   "outputs": [
    {
     "data": {
      "text/plain": [
       "[0.07276835615767632, 0.9783]"
      ]
     },
     "execution_count": 21,
     "metadata": {},
     "output_type": "execute_result"
    }
   ],
   "source": [
    "test_score # loss, accuracy"
   ]
  },
  {
   "cell_type": "markdown",
   "metadata": {},
   "source": [
    "## Copy the code and show results for CNN"
   ]
  },
  {
   "cell_type": "code",
   "execution_count": 42,
   "metadata": {},
   "outputs": [
    {
     "name": "stdout",
     "output_type": "stream",
     "text": [
      "Train on 55000 samples, validate on 5000 samples\n",
      "Epoch 1/20\n",
      "55000/55000 [==============================] - 17s 310us/step - loss: 0.4709 - acc: 0.8601 - val_loss: 0.2414 - val_acc: 0.9306\n",
      "Epoch 2/20\n",
      "55000/55000 [==============================] - 16s 295us/step - loss: 0.2515 - acc: 0.9264 - val_loss: 0.1583 - val_acc: 0.9598\n",
      "Epoch 3/20\n",
      "55000/55000 [==============================] - 17s 309us/step - loss: 0.1757 - acc: 0.9502 - val_loss: 0.1287 - val_acc: 0.9658\n",
      "Epoch 4/20\n",
      "55000/55000 [==============================] - 16s 295us/step - loss: 0.1346 - acc: 0.9620 - val_loss: 0.0959 - val_acc: 0.9778\n",
      "Epoch 5/20\n",
      "55000/55000 [==============================] - 16s 299us/step - loss: 0.1115 - acc: 0.9686 - val_loss: 0.0851 - val_acc: 0.9814\n",
      "Epoch 6/20\n",
      "55000/55000 [==============================] - 16s 296us/step - loss: 0.0965 - acc: 0.9732 - val_loss: 0.0791 - val_acc: 0.9820\n",
      "Epoch 7/20\n",
      "55000/55000 [==============================] - 16s 295us/step - loss: 0.0866 - acc: 0.9759 - val_loss: 0.0746 - val_acc: 0.9814\n",
      "Epoch 8/20\n",
      "55000/55000 [==============================] - 15s 281us/step - loss: 0.0784 - acc: 0.9779 - val_loss: 0.0713 - val_acc: 0.9824\n",
      "Epoch 9/20\n",
      "55000/55000 [==============================] - 16s 294us/step - loss: 0.0732 - acc: 0.9792 - val_loss: 0.0677 - val_acc: 0.9826\n",
      "Epoch 10/20\n",
      "55000/55000 [==============================] - 16s 288us/step - loss: 0.0680 - acc: 0.9803 - val_loss: 0.0690 - val_acc: 0.9812\n",
      "Epoch 11/20\n",
      "55000/55000 [==============================] - 16s 288us/step - loss: 0.0638 - acc: 0.9816 - val_loss: 0.0704 - val_acc: 0.9814\n",
      "Epoch 12/20\n",
      "55000/55000 [==============================] - 16s 294us/step - loss: 0.0605 - acc: 0.9825 - val_loss: 0.0646 - val_acc: 0.9836\n",
      "Epoch 13/20\n",
      "55000/55000 [==============================] - 18s 318us/step - loss: 0.0577 - acc: 0.9833 - val_loss: 0.0601 - val_acc: 0.9842\n",
      "Epoch 14/20\n",
      "55000/55000 [==============================] - 21s 373us/step - loss: 0.0547 - acc: 0.9841 - val_loss: 0.0619 - val_acc: 0.9842\n",
      "Epoch 15/20\n",
      "55000/55000 [==============================] - 25s 448us/step - loss: 0.0526 - acc: 0.9852 - val_loss: 0.0627 - val_acc: 0.9828\n",
      "Epoch 16/20\n",
      "55000/55000 [==============================] - 23s 424us/step - loss: 0.0510 - acc: 0.9851 - val_loss: 0.0654 - val_acc: 0.9826\n",
      "Epoch 17/20\n",
      "55000/55000 [==============================] - 23s 416us/step - loss: 0.0495 - acc: 0.9851 - val_loss: 0.0575 - val_acc: 0.9850\n",
      "Epoch 18/20\n",
      "55000/55000 [==============================] - 22s 402us/step - loss: 0.0474 - acc: 0.9863 - val_loss: 0.0569 - val_acc: 0.9842\n",
      "Epoch 19/20\n",
      "55000/55000 [==============================] - 23s 417us/step - loss: 0.0461 - acc: 0.9868 - val_loss: 0.0578 - val_acc: 0.9842\n",
      "Epoch 20/20\n",
      "55000/55000 [==============================] - 23s 420us/step - loss: 0.0443 - acc: 0.9872 - val_loss: 0.0589 - val_acc: 0.9842\n",
      "The training took 372.217084646225 seconds\n"
     ]
    }
   ],
   "source": [
    "num_batches = 128\n",
    "num_epochs = 20\n",
    "#model = build_FNN()\n",
    "model = build_CNN()\n",
    "\n",
    "start_time = time.time()\n",
    "\n",
    "# Use 55000 records to train and 5000 for validation\n",
    "training = model.fit(X_train[:55000], y_train[:55000], epochs=num_epochs, batch_size=num_batches,\n",
    "                    validation_data=(X_train[55000:], y_train[55000:]))\n",
    "print('The training took {0} seconds'.format(time.time() - start_time))"
   ]
  },
  {
   "cell_type": "code",
   "execution_count": 43,
   "metadata": {},
   "outputs": [
    {
     "data": {
      "image/png": "[encoded data removed]",
      "text/plain": [
       "<matplotlib.figure.Figure at 0x1186bba8>"
      ]
     },
     "metadata": {},
     "output_type": "display_data"
    }
   ],
   "source": [
    "loss_train = training.history['loss']\n",
    "val_loss_train = training.history['val_loss']\n",
    "\n",
    "fig, ax = plt.subplots()\n",
    "ax.plot(loss_train, 'o-', label='Training loss')\n",
    "ax.plot(val_loss_train, 'x-', label='Validation loss')\n",
    "ax.legend()\n",
    "ax.set_title('Training/Validaion loss vs # of epochs')\n",
    "ax.set_xlabel('# of epochs')\n",
    "ax.set_ylabel('Loss')\n",
    "\n",
    "plt.show()"
   ]
  },
  {
   "cell_type": "code",
   "execution_count": 44,
   "metadata": {},
   "outputs": [
    {
     "data": {
      "image/png": "[encoded data removed]",
      "text/plain": [
       "<matplotlib.figure.Figure at 0xf3fda20>"
      ]
     },
     "metadata": {},
     "output_type": "display_data"
    }
   ],
   "source": [
    "acc_train = training.history['acc']\n",
    "val_acc_train = training.history['val_acc']\n",
    "\n",
    "fig, ax = plt.subplots()\n",
    "ax.plot(acc_train, 'o-', label='Training accuracy')\n",
    "ax.plot(val_acc_train, 'x-', label='Validation accuracy')\n",
    "ax.legend()\n",
    "ax.set_title('Training/Validaion accuracy vs # of epochs')\n",
    "ax.set_xlabel('# of epochs')\n",
    "ax.set_ylabel('Loss')\n",
    "\n",
    "plt.show()"
   ]
  },
  {
   "cell_type": "code",
   "execution_count": 45,
   "metadata": {},
   "outputs": [
    {
     "name": "stdout",
     "output_type": "stream",
     "text": [
      "10000/10000 [==============================] - 2s 201us/step\n"
     ]
    },
    {
     "data": {
      "text/plain": [
       "[0.060088034370541575, 0.9812]"
      ]
     },
     "execution_count": 45,
     "metadata": {},
     "output_type": "execute_result"
    }
   ],
   "source": [
    "test_score = model.evaluate(X_test, y_test)\n",
    "test_score # loss, accuracy"
   ]
  },
  {
   "cell_type": "code",
   "execution_count": null,
   "metadata": {},
   "outputs": [],
   "source": []
  }
 ],
 "metadata": {
  "kernelspec": {
   "display_name": "Python 3",
   "language": "python",
   "name": "python3"
  },
  "language_info": {
   "codemirror_mode": {
    "name": "ipython",
    "version": 3
   },
   "file_extension": ".py",
   "mimetype": "text/x-python",
   "name": "python",
   "nbconvert_exporter": "python",
   "pygments_lexer": "ipython3",
   "version": "3.6.4"
  }
 },
 "nbformat": 4,
 "nbformat_minor": 2
}
