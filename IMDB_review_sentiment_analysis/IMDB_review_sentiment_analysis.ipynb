{
  "nbformat": 4,
  "nbformat_minor": 0,
  "metadata": {
    "colab": {
      "name": "IMDB_review_sentiment_analysis.ipynb",
      "version": "0.3.2",
      "provenance": [],
      "toc_visible": true
    },
    "kernelspec": {
      "name": "python3",
      "display_name": "Python 3"
    },
    "accelerator": "GPU"
  },
  "cells": [
    {
      "metadata": {
        "id": "u-heNqmmSMhf",
        "colab_type": "text"
      },
      "cell_type": "markdown",
      "source": [
        "# IMDB movie review sentiment analysis"
      ]
    },
    {
      "metadata": {
        "id": "KWBKpKgCmpu9",
        "colab_type": "text"
      },
      "cell_type": "markdown",
      "source": [
        "## Basic steps for NLP\n",
        "\n",
        "1. Prepare the input\n",
        "  - Tokenize the words\n",
        "  - Build the vocabulary which maps word to id\n",
        "  - Also build id_to_word dict to map id back to word\n",
        "  - Pad/truncate the sentences to a fixed length\n",
        "  \n",
        "2. Build/train model using keras\n",
        "  - Add layers (width, activation, dropout)\n",
        "  - Defind loss and optimizer\n",
        "  - Dertermine # of epochs and # of mini-batches\n",
        "\n",
        "3. Evalute the model\n",
        "  - Plot loss/accuracy vs # of epochs\n",
        "  - Output the loss/accuracy on the test data\n",
        "  \n",
        "4. Improvements\n",
        "  - Make the neural net deeper by adding more LSTM layers\n",
        "  - Use bidirectional LSTM\n",
        "  - Use pre-trained embeddings"
      ]
    },
    {
      "metadata": {
        "id": "iUbIcHzNmq49",
        "colab_type": "code",
        "colab": {
          "base_uri": "https://localhost:8080/",
          "height": 51
        },
        "outputId": "32ff86dc-8384-464e-d1e1-6129f7d38777"
      },
      "cell_type": "code",
      "source": [
        "# Import moduals\n",
        "\n",
        "import numpy as np\n",
        "import matplotlib.pyplot as plt\n",
        "%matplotlib inline\n",
        "plt.style.use('ggplot')\n",
        "\n",
        "import tensorflow as tf\n",
        "from tensorflow import keras\n",
        "from keras import backend as K\n",
        "from keras import Sequential\n",
        "from keras.layers import  Embedding, Bidirectional, GlobalAveragePooling1D\n",
        "from keras.layers import Dense, Dropout, LSTM, CuDNNLSTM\n",
        "from keras.regularizers import l1, l2\n",
        "\n",
        "print (tf.__version__)"
      ],
      "execution_count": 1,
      "outputs": [
        {
          "output_type": "stream",
          "text": [
            "1.12.0\n"
          ],
          "name": "stdout"
        },
        {
          "output_type": "stream",
          "text": [
            "Using TensorFlow backend.\n"
          ],
          "name": "stderr"
        }
      ]
    },
    {
      "metadata": {
        "id": "z2XYFHM2qlJ9",
        "colab_type": "text"
      },
      "cell_type": "markdown",
      "source": [
        "## 1. Load and prepare the data for input"
      ]
    },
    {
      "metadata": {
        "id": "KUEouv9PqM_w",
        "colab_type": "code",
        "colab": {}
      },
      "cell_type": "code",
      "source": [
        "from keras.datasets import imdb\n",
        "\n",
        "vocab_size = 10000\n",
        "(X_train, y_train), (X_test, y_test) = imdb.load_data(num_words=vocab_size)"
      ],
      "execution_count": 0,
      "outputs": []
    },
    {
      "metadata": {
        "id": "GlOMBsDNrtke",
        "colab_type": "text"
      },
      "cell_type": "markdown",
      "source": [
        "### Build the vocabulary\n",
        "\n",
        "We can get the vocabulary which is a dictionary mapping word to id using the fuction get_word_index(). However, we also want to add the special symbols which represent the *Start-of-sentence* 'SOS', *Padding* 'PAD', and *Word-not-in-vocab* 'UNK' to the vocabulary.\n"
      ]
    },
    {
      "metadata": {
        "id": "iRyLiJTJrTXd",
        "colab_type": "code",
        "colab": {}
      },
      "cell_type": "code",
      "source": [
        "word_to_index = imdb.get_word_index()\n",
        "\n",
        "word_to_index = dict([(k, v+3) for (k,v) in word_to_index.items()])\n",
        "word_to_index['<PAD>'] = 0\n",
        "word_to_index['<SOS>'] = 1\n",
        "word_to_index['<UNK>'] = 2"
      ],
      "execution_count": 0,
      "outputs": []
    },
    {
      "metadata": {
        "id": "GO4unBw5uJ_A",
        "colab_type": "text"
      },
      "cell_type": "markdown",
      "source": [
        "### Get the reverse mapping from id to word"
      ]
    },
    {
      "metadata": {
        "id": "i_KoYvXDrWVF",
        "colab_type": "code",
        "colab": {}
      },
      "cell_type": "code",
      "source": [
        "index_to_word = dict([(v, k) for (k, v) in word_to_index.items()])"
      ],
      "execution_count": 0,
      "outputs": []
    },
    {
      "metadata": {
        "id": "Lkw78YqPuabW",
        "colab_type": "text"
      },
      "cell_type": "markdown",
      "source": [
        "Define a function to transfrom the tokenized sentence to the sentence text."
      ]
    },
    {
      "metadata": {
        "id": "v6vAn39muZno",
        "colab_type": "code",
        "colab": {}
      },
      "cell_type": "code",
      "source": [
        "def to_text(tokens):\n",
        "  \n",
        "  sentence = [index_to_word.get(token, '<UNK>') for token in tokens]\n",
        "  print_text = []\n",
        "  for idx, word in enumerate(sentence):\n",
        "    print_text.append(word)\n",
        "    if (idx + 1) % 10 == 0:\n",
        "      print_text.append('\\n')\n",
        "  \n",
        "  print(' '.join(print_text))"
      ],
      "execution_count": 0,
      "outputs": []
    },
    {
      "metadata": {
        "id": "954e14CGvSke",
        "colab_type": "code",
        "colab": {
          "base_uri": "https://localhost:8080/",
          "height": 391
        },
        "outputId": "733e9f2b-9871-4288-817c-025ac7532fdf"
      },
      "cell_type": "code",
      "source": [
        "to_text(X_train[0])"
      ],
      "execution_count": 6,
      "outputs": [
        {
          "output_type": "stream",
          "text": [
            "<SOS> this film was just brilliant casting location scenery story \n",
            " direction everyone's really suited the part they played and you \n",
            " could just imagine being there robert <UNK> is an amazing \n",
            " actor and now the same being director <UNK> father came \n",
            " from the same scottish island as myself so i loved \n",
            " the fact there was a real connection with this film \n",
            " the witty remarks throughout the film were great it was \n",
            " just brilliant so much that i bought the film as \n",
            " soon as it was released for <UNK> and would recommend \n",
            " it to everyone to watch and the fly fishing was \n",
            " amazing really cried at the end it was so sad \n",
            " and you know what they say if you cry at \n",
            " a film it must have been good and this definitely \n",
            " was also <UNK> to the two little boy's that played \n",
            " the <UNK> of norman and paul they were just brilliant \n",
            " children are often left out of the <UNK> list i \n",
            " think because the stars that play them all grown up \n",
            " are such a big profile for the whole film but \n",
            " these children are amazing and should be praised for what \n",
            " they have done don't you think the whole story was \n",
            " so lovely because it was true and was someone's life \n",
            " after all that was shared with us all\n"
          ],
          "name": "stdout"
        }
      ]
    },
    {
      "metadata": {
        "id": "KCxqHFMUwEcg",
        "colab_type": "text"
      },
      "cell_type": "markdown",
      "source": [
        "### Pad/truncate the sentences to a fixed length\n",
        "\n",
        "We pad the short sentences from the beginning due to the fact that if we do this from the end, the previous words will get forgorten during the training. And we also truncate the long sentences from the beginning since people tend to say important things in the later part."
      ]
    },
    {
      "metadata": {
        "id": "6HKl1mWPvUwO",
        "colab_type": "code",
        "colab": {
          "base_uri": "https://localhost:8080/",
          "height": 34
        },
        "outputId": "36b43ee1-49fc-430c-e432-aad440046ca6"
      },
      "cell_type": "code",
      "source": [
        "len(X_train[0]) ,len(X_train[1])"
      ],
      "execution_count": 7,
      "outputs": [
        {
          "output_type": "execute_result",
          "data": {
            "text/plain": [
              "(218, 189)"
            ]
          },
          "metadata": {
            "tags": []
          },
          "execution_count": 7
        }
      ]
    },
    {
      "metadata": {
        "id": "CWvkeYFtJmlA",
        "colab_type": "text"
      },
      "cell_type": "markdown",
      "source": [
        "We want the length of the sentence to be 100."
      ]
    },
    {
      "metadata": {
        "id": "DLcpoH6UwRl7",
        "colab_type": "code",
        "colab": {}
      },
      "cell_type": "code",
      "source": [
        "from keras.preprocessing.sequence import pad_sequences\n",
        "\n",
        "max_len = 100\n",
        "X_train = pad_sequences(X_train,\n",
        "                        value = word_to_index['<PAD>'],\n",
        "                        padding = 'pre',\n",
        "                        truncating = 'pre',\n",
        "                        maxlen = max_len\n",
        "                       )\n",
        "\n",
        "X_test = pad_sequences(X_test,\n",
        "                        value = word_to_index['<PAD>'],\n",
        "                        padding = 'pre',\n",
        "                        truncating = 'pre',\n",
        "                        maxlen = max_len\n",
        "                       )"
      ],
      "execution_count": 0,
      "outputs": []
    },
    {
      "metadata": {
        "id": "-3SFgtsTJ0u-",
        "colab_type": "code",
        "colab": {
          "base_uri": "https://localhost:8080/",
          "height": 34
        },
        "outputId": "54d5213e-443c-4121-a703-b4248d47ac83"
      },
      "cell_type": "code",
      "source": [
        "len(X_train[0]) ,len(X_train[1])"
      ],
      "execution_count": 9,
      "outputs": [
        {
          "output_type": "execute_result",
          "data": {
            "text/plain": [
              "(100, 100)"
            ]
          },
          "metadata": {
            "tags": []
          },
          "execution_count": 9
        }
      ]
    },
    {
      "metadata": {
        "id": "tbVEZ0kNJ199",
        "colab_type": "code",
        "colab": {
          "base_uri": "https://localhost:8080/",
          "height": 204
        },
        "outputId": "208fcb76-b372-4e12-aa3e-cb049dc8f0b0"
      },
      "cell_type": "code",
      "source": [
        "to_text(X_train[0])"
      ],
      "execution_count": 10,
      "outputs": [
        {
          "output_type": "stream",
          "text": [
            "cry at a film it must have been good and \n",
            " this definitely was also <UNK> to the two little boy's \n",
            " that played the <UNK> of norman and paul they were \n",
            " just brilliant children are often left out of the <UNK> \n",
            " list i think because the stars that play them all \n",
            " grown up are such a big profile for the whole \n",
            " film but these children are amazing and should be praised \n",
            " for what they have done don't you think the whole \n",
            " story was so lovely because it was true and was \n",
            " someone's life after all that was shared with us all \n",
            "\n"
          ],
          "name": "stdout"
        }
      ]
    },
    {
      "metadata": {
        "id": "_VJwDIPyJ4-T",
        "colab_type": "code",
        "colab": {
          "base_uri": "https://localhost:8080/",
          "height": 204
        },
        "outputId": "51220ce0-01b6-4f5c-86ec-68057eb8f6c3"
      },
      "cell_type": "code",
      "source": [
        "to_text(X_train[5])"
      ],
      "execution_count": 11,
      "outputs": [
        {
          "output_type": "stream",
          "text": [
            "<PAD> <PAD> <PAD> <PAD> <PAD> <PAD> <PAD> <PAD> <PAD> <PAD> \n",
            " <PAD> <PAD> <PAD> <PAD> <PAD> <PAD> <PAD> <PAD> <PAD> <PAD> \n",
            " <PAD> <PAD> <PAD> <PAD> <PAD> <PAD> <PAD> <PAD> <PAD> <PAD> \n",
            " <PAD> <PAD> <PAD> <PAD> <PAD> <PAD> <PAD> <PAD> <PAD> <PAD> \n",
            " <PAD> <PAD> <PAD> <PAD> <PAD> <PAD> <PAD> <PAD> <PAD> <PAD> \n",
            " <PAD> <PAD> <PAD> <PAD> <PAD> <PAD> <PAD> <SOS> begins better \n",
            " than it ends funny that the russian submarine crew <UNK> \n",
            " all other actors it's like those scenes where documentary shots \n",
            " br br spoiler part the message <UNK> was contrary to \n",
            " the whole story it just does not <UNK> br br \n",
            "\n"
          ],
          "name": "stdout"
        }
      ]
    },
    {
      "metadata": {
        "id": "uCT8R0ccJ7L0",
        "colab_type": "code",
        "colab": {
          "base_uri": "https://localhost:8080/",
          "height": 187
        },
        "outputId": "fadeb0e9-ddff-4fe4-cf12-cbfcbdf9e13a"
      },
      "cell_type": "code",
      "source": [
        "X_train[5]"
      ],
      "execution_count": 12,
      "outputs": [
        {
          "output_type": "execute_result",
          "data": {
            "text/plain": [
              "array([   0,    0,    0,    0,    0,    0,    0,    0,    0,    0,    0,\n",
              "          0,    0,    0,    0,    0,    0,    0,    0,    0,    0,    0,\n",
              "          0,    0,    0,    0,    0,    0,    0,    0,    0,    0,    0,\n",
              "          0,    0,    0,    0,    0,    0,    0,    0,    0,    0,    0,\n",
              "          0,    0,    0,    0,    0,    0,    0,    0,    0,    0,    0,\n",
              "          0,    0,    1,  778,  128,   74,   12,  630,  163,   15,    4,\n",
              "       1766, 7982, 1051,    2,   32,   85,  156,   45,   40,  148,  139,\n",
              "        121,  664,  665,   10,   10, 1361,  173,    4,  749,    2,   16,\n",
              "       3804,    8,    4,  226,   65,   12,   43,  127,   24,    2,   10,\n",
              "         10], dtype=int32)"
            ]
          },
          "metadata": {
            "tags": []
          },
          "execution_count": 12
        }
      ]
    },
    {
      "metadata": {
        "id": "dAlzYrOiKHk7",
        "colab_type": "text"
      },
      "cell_type": "markdown",
      "source": [
        "## Build and train the models for sentiment prediction"
      ]
    },
    {
      "metadata": {
        "id": "E8DXY27zKUl3",
        "colab_type": "text"
      },
      "cell_type": "markdown",
      "source": [
        "We will try several different models to compare the result and performance.\n",
        "  - A feed-forward NN with 1 embedding layer, 1 globalaverageplooing1D, 1 hidden layer and 1 'softmax' layer for the output.\n",
        "  - A RNN using cuDNNLSTM.\n",
        "  - Add one more LSTM layer to the previous model.\n",
        "  - Use bidirectional LSTM and also try pre-trained embeddings."
      ]
    },
    {
      "metadata": {
        "id": "CtTA1QWdLpel",
        "colab_type": "text"
      },
      "cell_type": "markdown",
      "source": [
        "### Define the functions to build, train and plot loss/accuracy for different models."
      ]
    },
    {
      "metadata": {
        "id": "Q6SxWtsJKF9E",
        "colab_type": "code",
        "colab": {}
      },
      "cell_type": "code",
      "source": [
        "def build_FNN():\n",
        "  # Add dropout to reduce overfitting\n",
        "  dropout_rate = 0.8\n",
        "  \n",
        "  model = Sequential()\n",
        "  # The embedding layer, 100 is the embedding dimension\n",
        "  model.add(Embedding(vocab_size, 100))\n",
        "  # The globalaveragepooling to flatten the result\n",
        "  model.add(GlobalAveragePooling1D())\n",
        "  # A dense layer of width 16 and the output layer with 1 node\n",
        "  #model.add(Dense(128, activation='relu'))\n",
        "  #if dropout_rate > 0:\n",
        "  #  model.add(Dropout(dropout_rate))\n",
        "  #model.add(Dense(1, activation='sigmoid'))\n",
        "  model.add(Dense(16, activation='relu', kernel_regularizer=l2(0.001)))\n",
        "  if dropout_rate > 0:\n",
        "    model.add(Dropout(dropout_rate))\n",
        "  model.add(Dense(1, activation='sigmoid'))\n",
        "  \n",
        "  # Define the loss and optimizer for the model\n",
        "  model.compile(loss = 'binary_crossentropy',\n",
        "                optimizer = 'Adam',\n",
        "                metrics = ['accuracy']\n",
        "               )\n",
        "  \n",
        "  print(model.summary())\n",
        "  return model\n",
        "\n",
        "def build_RNN():\n",
        "  \n",
        "  model = Sequential()\n",
        "  \n",
        "  model.add(Embedding(vocab_size, 100))\n",
        "  # For the LSTM we just need to define the memory width\n",
        "  #model.add(CuDNNLSTM(32))\n",
        "  model.add(LSTM(32, dropout=0.5, recurrent_dropout=0.5))\n",
        "  model.add(Dense(1, activation='sigmoid'))\n",
        "  \n",
        "  model.compile(loss = 'binary_crossentropy',\n",
        "                optimizer = 'Adam',\n",
        "                metrics = ['accuracy']\n",
        "               )\n",
        "  \n",
        "  print(model.summary())\n",
        "  return model\n",
        "\n",
        "def build_deeper_RNN():\n",
        "  \n",
        "  model = Sequential()\n",
        "  \n",
        "  model.add(Embedding(vocab_size, 100))\n",
        "  # We need to set return_sequences = True for all the LSTM layers but the last one\n",
        "  model.add(LSTM(32, return_sequences=True))\n",
        "  model.add(LSTM(32, return_sequences=False))\n",
        "  \n",
        "  model.add(Dense(1, activation='sigmoid'))\n",
        "  \n",
        "  model.compile(loss = 'binary_crossentropy',\n",
        "                optimizer = 'Adam',\n",
        "                metrics = ['accuracy']\n",
        "               )\n",
        "  \n",
        "  print(model.summary())\n",
        "  return model\n",
        "\n",
        "def build_biDirec_RNN():\n",
        "  \n",
        "  model = Sequential()\n",
        "  \n",
        "  model.add(Embedding(vocab_size, 100))\n",
        "  \n",
        "  model.add(Bidirectional(LSTM(32)))\n",
        "  \n",
        "  model.add(Dense(1, activation='sigmoid'))\n",
        "  \n",
        "  model.compile(loss = 'binary_crossentropy',\n",
        "                optimizer = 'Adam',\n",
        "                metrics = ['accuracy']\n",
        "               )\n",
        "  \n",
        "  print(model.summary())\n",
        "  return model"
      ],
      "execution_count": 0,
      "outputs": []
    },
    {
      "metadata": {
        "id": "Ei2UNB4DO6f2",
        "colab_type": "text"
      },
      "cell_type": "markdown",
      "source": [
        ""
      ]
    },
    {
      "metadata": {
        "id": "cTn3BoQvOg2c",
        "colab_type": "code",
        "colab": {}
      },
      "cell_type": "code",
      "source": [
        "def train_model(model, num_epochs, num_batchs):\n",
        "  \n",
        "  history = model.fit(X_train[:10000],\n",
        "                      y_train[:10000],\n",
        "                      epochs = num_epochs,\n",
        "                      batch_size = num_batchs,\n",
        "                      validation_data = (X_train[10000:12000], y_train[10000:12000])\n",
        "                     )\n",
        "  return history"
      ],
      "execution_count": 0,
      "outputs": []
    },
    {
      "metadata": {
        "id": "F9_iRCbRQG3h",
        "colab_type": "code",
        "colab": {}
      },
      "cell_type": "code",
      "source": [
        "def plot_history(history, num_epochs):\n",
        "  \n",
        "  history = history.history\n",
        "  \n",
        "  train_loss = history['loss']\n",
        "  train_acc = history['acc']\n",
        "  val_loss = history['val_loss']\n",
        "  val_acc = history['val_acc']\n",
        "  \n",
        "  x_axis = [i+1 for i in range(num_epochs)]\n",
        "  \n",
        "  fig, ax = plt.subplots(1, 2, figsize=(12, 4))\n",
        "  \n",
        "  ax[0].plot(x_axis, train_loss, 'bo', label='Training loss')\n",
        "  ax[0].plot(x_axis, val_loss, 'r', label='Validation loss')\n",
        "  ax[0].set_title('Training/Validatin loss vs # of epochs')\n",
        "  ax[0].set_xlabel('# of epochs')\n",
        "  ax[0].set_ylabel('Loss')\n",
        "  ax[0].legend()\n",
        "  \n",
        "  ax[1].plot(x_axis, train_acc, 'bo', label='Training accuracy')\n",
        "  ax[1].plot(x_axis, val_acc, 'r', label='Validation accuracy')\n",
        "  ax[1].set_title('Training/Validatin accuracy vs # of epochs')\n",
        "  ax[1].set_xlabel('# of epochs')\n",
        "  ax[1].set_ylabel('Accuracy')\n",
        "  ax[1].legend()\n",
        "  \n",
        "  plt.show()"
      ],
      "execution_count": 0,
      "outputs": []
    },
    {
      "metadata": {
        "id": "ATo7hPzzRrcT",
        "colab_type": "text"
      },
      "cell_type": "markdown",
      "source": [
        "### The feed-forward NN"
      ]
    },
    {
      "metadata": {
        "id": "2Wicq1jZRmR-",
        "colab_type": "code",
        "colab": {
          "base_uri": "https://localhost:8080/",
          "height": 700
        },
        "outputId": "452d97ec-0795-4b9d-f021-c95c965e8ff2"
      },
      "cell_type": "code",
      "source": [
        "model = build_FNN()\n",
        "history = train_model(model, 10, 128)"
      ],
      "execution_count": 16,
      "outputs": [
        {
          "output_type": "stream",
          "text": [
            "_________________________________________________________________\n",
            "Layer (type)                 Output Shape              Param #   \n",
            "=================================================================\n",
            "embedding_1 (Embedding)      (None, None, 100)         1000000   \n",
            "_________________________________________________________________\n",
            "global_average_pooling1d_1 ( (None, 100)               0         \n",
            "_________________________________________________________________\n",
            "dense_1 (Dense)              (None, 16)                1616      \n",
            "_________________________________________________________________\n",
            "dropout_1 (Dropout)          (None, 16)                0         \n",
            "_________________________________________________________________\n",
            "dense_2 (Dense)              (None, 1)                 17        \n",
            "=================================================================\n",
            "Total params: 1,001,633\n",
            "Trainable params: 1,001,633\n",
            "Non-trainable params: 0\n",
            "_________________________________________________________________\n",
            "None\n",
            "Train on 10000 samples, validate on 2000 samples\n",
            "Epoch 1/10\n",
            "10000/10000 [==============================] - 2s 158us/step - loss: 0.7060 - acc: 0.5760 - val_loss: 0.6876 - val_acc: 0.7240\n",
            "Epoch 2/10\n",
            "10000/10000 [==============================] - 1s 67us/step - loss: 0.6619 - acc: 0.6846 - val_loss: 0.6205 - val_acc: 0.8035\n",
            "Epoch 3/10\n",
            "10000/10000 [==============================] - 1s 66us/step - loss: 0.5843 - acc: 0.7489 - val_loss: 0.5286 - val_acc: 0.8290\n",
            "Epoch 4/10\n",
            "10000/10000 [==============================] - 1s 67us/step - loss: 0.5123 - acc: 0.7896 - val_loss: 0.4744 - val_acc: 0.8400\n",
            "Epoch 5/10\n",
            "10000/10000 [==============================] - 1s 67us/step - loss: 0.4732 - acc: 0.8069 - val_loss: 0.4506 - val_acc: 0.8410\n",
            "Epoch 6/10\n",
            "10000/10000 [==============================] - 1s 67us/step - loss: 0.4471 - acc: 0.8226 - val_loss: 0.4322 - val_acc: 0.8515\n",
            "Epoch 7/10\n",
            "10000/10000 [==============================] - 1s 66us/step - loss: 0.4178 - acc: 0.8413 - val_loss: 0.4212 - val_acc: 0.8550\n",
            "Epoch 8/10\n",
            "10000/10000 [==============================] - 1s 67us/step - loss: 0.3995 - acc: 0.8459 - val_loss: 0.4160 - val_acc: 0.8500\n",
            "Epoch 9/10\n",
            "10000/10000 [==============================] - 1s 67us/step - loss: 0.3817 - acc: 0.8565 - val_loss: 0.4097 - val_acc: 0.8520\n",
            "Epoch 10/10\n",
            "10000/10000 [==============================] - 1s 66us/step - loss: 0.3668 - acc: 0.8615 - val_loss: 0.4059 - val_acc: 0.8480\n"
          ],
          "name": "stdout"
        }
      ]
    },
    {
      "metadata": {
        "id": "_vVvO_7faiqf",
        "colab_type": "text"
      },
      "cell_type": "markdown",
      "source": [
        ""
      ]
    },
    {
      "metadata": {
        "id": "ijDPfhYVRw7N",
        "colab_type": "code",
        "colab": {
          "base_uri": "https://localhost:8080/",
          "height": 51
        },
        "outputId": "35e9fc1c-a775-4aa1-f6e1-80d948a1cbdf"
      },
      "cell_type": "code",
      "source": [
        "model.evaluate(X_test, y_test)"
      ],
      "execution_count": 17,
      "outputs": [
        {
          "output_type": "stream",
          "text": [
            "25000/25000 [==============================] - 1s 59us/step\n"
          ],
          "name": "stdout"
        },
        {
          "output_type": "execute_result",
          "data": {
            "text/plain": [
              "[0.4106702568912506, 0.84164]"
            ]
          },
          "metadata": {
            "tags": []
          },
          "execution_count": 17
        }
      ]
    },
    {
      "metadata": {
        "id": "232Z40UlUVm6",
        "colab_type": "code",
        "colab": {
          "base_uri": "https://localhost:8080/",
          "height": 298
        },
        "outputId": "06d697a0-601e-4174-d07b-a7be28b06c66"
      },
      "cell_type": "code",
      "source": [
        "plot_history(history, 10)"
      ],
      "execution_count": 18,
      "outputs": [
        {
          "output_type": "display_data",
          "data": {
            "image/png": "[encoded data removed]",
            "text/plain": [
              "<matplotlib.figure.Figure at 0x7f960cb7f6a0>"
            ]
          },
          "metadata": {
            "tags": []
          }
        }
      ]
    },
    {
      "metadata": {
        "id": "I9BdDbNSZFRw",
        "colab_type": "text"
      },
      "cell_type": "markdown",
      "source": [
        "### RNN (1 LSTM layer, 2 LSTM layers, bidirenctional LSTM)"
      ]
    },
    {
      "metadata": {
        "id": "lclpewZ3UX3q",
        "colab_type": "code",
        "colab": {
          "base_uri": "https://localhost:8080/",
          "height": 462
        },
        "outputId": "c5808ab0-7ac1-44ee-9d7e-b61ba4ba1a48"
      },
      "cell_type": "code",
      "source": [
        "model = None\n",
        "model = build_RNN()\n",
        "history = train_model(model, 5, 128)"
      ],
      "execution_count": 19,
      "outputs": [
        {
          "output_type": "stream",
          "text": [
            "_________________________________________________________________\n",
            "Layer (type)                 Output Shape              Param #   \n",
            "=================================================================\n",
            "embedding_2 (Embedding)      (None, None, 100)         1000000   \n",
            "_________________________________________________________________\n",
            "lstm_1 (LSTM)                (None, 32)                17024     \n",
            "_________________________________________________________________\n",
            "dense_3 (Dense)              (None, 1)                 33        \n",
            "=================================================================\n",
            "Total params: 1,017,057\n",
            "Trainable params: 1,017,057\n",
            "Non-trainable params: 0\n",
            "_________________________________________________________________\n",
            "None\n",
            "Train on 10000 samples, validate on 2000 samples\n",
            "Epoch 1/5\n",
            "10000/10000 [==============================] - 24s 2ms/step - loss: 0.6633 - acc: 0.6147 - val_loss: 0.5688 - val_acc: 0.7525\n",
            "Epoch 2/5\n",
            "10000/10000 [==============================] - 24s 2ms/step - loss: 0.4992 - acc: 0.7777 - val_loss: 0.4616 - val_acc: 0.7915\n",
            "Epoch 3/5\n",
            "10000/10000 [==============================] - 23s 2ms/step - loss: 0.3952 - acc: 0.8357 - val_loss: 0.4421 - val_acc: 0.7885\n",
            "Epoch 4/5\n",
            "10000/10000 [==============================] - 23s 2ms/step - loss: 0.3428 - acc: 0.8584 - val_loss: 0.4538 - val_acc: 0.7930\n",
            "Epoch 5/5\n",
            "10000/10000 [==============================] - 23s 2ms/step - loss: 0.3010 - acc: 0.8837 - val_loss: 0.4889 - val_acc: 0.7820\n"
          ],
          "name": "stdout"
        }
      ]
    },
    {
      "metadata": {
        "id": "LUnfslolZLqQ",
        "colab_type": "code",
        "colab": {
          "base_uri": "https://localhost:8080/",
          "height": 51
        },
        "outputId": "729fe7b5-4ce3-475f-a168-b66f47a26783"
      },
      "cell_type": "code",
      "source": [
        "model.evaluate(X_test, y_test)"
      ],
      "execution_count": 20,
      "outputs": [
        {
          "output_type": "stream",
          "text": [
            "25000/25000 [==============================] - 59s 2ms/step\n"
          ],
          "name": "stdout"
        },
        {
          "output_type": "execute_result",
          "data": {
            "text/plain": [
              "[0.4815567259025574, 0.77748]"
            ]
          },
          "metadata": {
            "tags": []
          },
          "execution_count": 20
        }
      ]
    },
    {
      "metadata": {
        "id": "fF4XWUYAaDp_",
        "colab_type": "code",
        "colab": {
          "base_uri": "https://localhost:8080/",
          "height": 298
        },
        "outputId": "e9575d29-3cb9-476f-dd6b-1fa1a453aadc"
      },
      "cell_type": "code",
      "source": [
        "plot_history(history, 5)"
      ],
      "execution_count": 21,
      "outputs": [
        {
          "output_type": "display_data",
          "data": {
            "image/png": "[encoded data removed]",
            "text/plain": [
              "<matplotlib.figure.Figure at 0x7f960cb7f710>"
            ]
          },
          "metadata": {
            "tags": []
          }
        }
      ]
    },
    {
      "metadata": {
        "id": "I4U8DM5Rc5k5",
        "colab_type": "text"
      },
      "cell_type": "markdown",
      "source": [
        "Add one more LSTM layer"
      ]
    },
    {
      "metadata": {
        "id": "K9iKfneDcBLZ",
        "colab_type": "code",
        "colab": {
          "base_uri": "https://localhost:8080/",
          "height": 496
        },
        "outputId": "ed2c99c0-a698-48ca-ef31-4e264b1bb23f"
      },
      "cell_type": "code",
      "source": [
        "model = build_deeper_RNN()\n",
        "history = train_model(model, 5, 128)"
      ],
      "execution_count": 22,
      "outputs": [
        {
          "output_type": "stream",
          "text": [
            "_________________________________________________________________\n",
            "Layer (type)                 Output Shape              Param #   \n",
            "=================================================================\n",
            "embedding_3 (Embedding)      (None, None, 100)         1000000   \n",
            "_________________________________________________________________\n",
            "lstm_2 (LSTM)                (None, None, 32)          17024     \n",
            "_________________________________________________________________\n",
            "lstm_3 (LSTM)                (None, 32)                8320      \n",
            "_________________________________________________________________\n",
            "dense_4 (Dense)              (None, 1)                 33        \n",
            "=================================================================\n",
            "Total params: 1,025,377\n",
            "Trainable params: 1,025,377\n",
            "Non-trainable params: 0\n",
            "_________________________________________________________________\n",
            "None\n",
            "Train on 10000 samples, validate on 2000 samples\n",
            "Epoch 1/5\n",
            "10000/10000 [==============================] - 41s 4ms/step - loss: 0.5729 - acc: 0.6922 - val_loss: 0.4426 - val_acc: 0.7990\n",
            "Epoch 2/5\n",
            "10000/10000 [==============================] - 39s 4ms/step - loss: 0.3053 - acc: 0.8791 - val_loss: 0.4581 - val_acc: 0.8060\n",
            "Epoch 3/5\n",
            "10000/10000 [==============================] - 40s 4ms/step - loss: 0.1908 - acc: 0.9330 - val_loss: 0.4266 - val_acc: 0.8205\n",
            "Epoch 4/5\n",
            "10000/10000 [==============================] - 39s 4ms/step - loss: 0.1303 - acc: 0.9591 - val_loss: 0.5852 - val_acc: 0.8210\n",
            "Epoch 5/5\n",
            "10000/10000 [==============================] - 39s 4ms/step - loss: 0.0792 - acc: 0.9753 - val_loss: 0.5725 - val_acc: 0.8110\n"
          ],
          "name": "stdout"
        }
      ]
    },
    {
      "metadata": {
        "id": "VLXe4ghrdGAZ",
        "colab_type": "code",
        "colab": {
          "base_uri": "https://localhost:8080/",
          "height": 51
        },
        "outputId": "42cc461e-6ab5-4d85-b3aa-1ff8df55b56a"
      },
      "cell_type": "code",
      "source": [
        "model.evaluate(X_test, y_test)"
      ],
      "execution_count": 23,
      "outputs": [
        {
          "output_type": "stream",
          "text": [
            "25000/25000 [==============================] - 92s 4ms/step\n"
          ],
          "name": "stdout"
        },
        {
          "output_type": "execute_result",
          "data": {
            "text/plain": [
              "[0.5625864365768433, 0.81524]"
            ]
          },
          "metadata": {
            "tags": []
          },
          "execution_count": 23
        }
      ]
    },
    {
      "metadata": {
        "id": "f4TtaZhWdJgz",
        "colab_type": "code",
        "colab": {
          "base_uri": "https://localhost:8080/",
          "height": 298
        },
        "outputId": "4ca596a0-b734-42b8-c03c-eef137649fd9"
      },
      "cell_type": "code",
      "source": [
        "plot_history(history, 5)"
      ],
      "execution_count": 24,
      "outputs": [
        {
          "output_type": "display_data",
          "data": {
            "image/png": "[encoded data removed]",
            "text/plain": [
              "<matplotlib.figure.Figure at 0x7f960cb7f7f0>"
            ]
          },
          "metadata": {
            "tags": []
          }
        }
      ]
    },
    {
      "metadata": {
        "id": "Cx7GTZDydNTF",
        "colab_type": "text"
      },
      "cell_type": "markdown",
      "source": [
        "Bidirectional LSTM"
      ]
    },
    {
      "metadata": {
        "id": "05wIXlWvdMvl",
        "colab_type": "code",
        "colab": {
          "base_uri": "https://localhost:8080/",
          "height": 496
        },
        "outputId": "ae879fed-97e0-4aa8-f970-67dd8c7466e0"
      },
      "cell_type": "code",
      "source": [
        "model = build_deeper_RNN()\n",
        "history = train_model(model, 5, 128)"
      ],
      "execution_count": 25,
      "outputs": [
        {
          "output_type": "stream",
          "text": [
            "_________________________________________________________________\n",
            "Layer (type)                 Output Shape              Param #   \n",
            "=================================================================\n",
            "embedding_4 (Embedding)      (None, None, 100)         1000000   \n",
            "_________________________________________________________________\n",
            "lstm_4 (LSTM)                (None, None, 32)          17024     \n",
            "_________________________________________________________________\n",
            "lstm_5 (LSTM)                (None, 32)                8320      \n",
            "_________________________________________________________________\n",
            "dense_5 (Dense)              (None, 1)                 33        \n",
            "=================================================================\n",
            "Total params: 1,025,377\n",
            "Trainable params: 1,025,377\n",
            "Non-trainable params: 0\n",
            "_________________________________________________________________\n",
            "None\n",
            "Train on 10000 samples, validate on 2000 samples\n",
            "Epoch 1/5\n",
            "10000/10000 [==============================] - 41s 4ms/step - loss: 0.5650 - acc: 0.6788 - val_loss: 0.4188 - val_acc: 0.8170\n",
            "Epoch 2/5\n",
            "10000/10000 [==============================] - 39s 4ms/step - loss: 0.2930 - acc: 0.8845 - val_loss: 0.4449 - val_acc: 0.8125\n",
            "Epoch 3/5\n",
            "10000/10000 [==============================] - 40s 4ms/step - loss: 0.1934 - acc: 0.9308 - val_loss: 0.4915 - val_acc: 0.8290\n",
            "Epoch 4/5\n",
            "10000/10000 [==============================] - 40s 4ms/step - loss: 0.1237 - acc: 0.9587 - val_loss: 0.5661 - val_acc: 0.8205\n",
            "Epoch 5/5\n",
            "10000/10000 [==============================] - 40s 4ms/step - loss: 0.0759 - acc: 0.9770 - val_loss: 0.6357 - val_acc: 0.8080\n"
          ],
          "name": "stdout"
        }
      ]
    },
    {
      "metadata": {
        "id": "MTLoKNp6dRS5",
        "colab_type": "code",
        "colab": {
          "base_uri": "https://localhost:8080/",
          "height": 51
        },
        "outputId": "b2dcd754-4058-4516-8a20-e923d7edb163"
      },
      "cell_type": "code",
      "source": [
        "model.evaluate(X_test, y_test)"
      ],
      "execution_count": 26,
      "outputs": [
        {
          "output_type": "stream",
          "text": [
            "25000/25000 [==============================] - 95s 4ms/step\n"
          ],
          "name": "stdout"
        },
        {
          "output_type": "execute_result",
          "data": {
            "text/plain": [
              "[0.6037913410902024, 0.81416]"
            ]
          },
          "metadata": {
            "tags": []
          },
          "execution_count": 26
        }
      ]
    },
    {
      "metadata": {
        "id": "DPLE6DDudSJq",
        "colab_type": "code",
        "colab": {
          "base_uri": "https://localhost:8080/",
          "height": 298
        },
        "outputId": "6dd345b1-2731-48f8-cf03-90e14473183c"
      },
      "cell_type": "code",
      "source": [
        "plot_history(history, 5)"
      ],
      "execution_count": 27,
      "outputs": [
        {
          "output_type": "display_data",
          "data": {
            "image/png": "[encoded data removed]",
            "text/plain": [
              "<matplotlib.figure.Figure at 0x7f9600644e10>"
            ]
          },
          "metadata": {
            "tags": []
          }
        }
      ]
    },
    {
      "metadata": {
        "id": "ETUG6VF1dczc",
        "colab_type": "text"
      },
      "cell_type": "markdown",
      "source": [
        "### Use the pre-trained embedding\n",
        "\n",
        "Do it on Mac\n",
        "\n"
      ]
    },
    {
      "metadata": {
        "id": "NPc0LVTBdfGS",
        "colab_type": "code",
        "colab": {
          "base_uri": "https://localhost:8080/",
          "height": 170
        },
        "outputId": "c779750a-ad89-4df8-a7e7-57733d06f7a7"
      },
      "cell_type": "code",
      "source": [
        "!kaggle datasets download -d terenceliu4444/glove6b100dtxt\n",
        "!unzip glove6b100dtxt.zip"
      ],
      "execution_count": 28,
      "outputs": [
        {
          "output_type": "stream",
          "text": [
            "Traceback (most recent call last):\n",
            "  File \"/usr/local/bin/kaggle\", line 7, in <module>\n",
            "    from kaggle.cli import main\n",
            "  File \"/usr/local/lib/python3.6/dist-packages/kaggle/__init__.py\", line 23, in <module>\n",
            "    api.authenticate()\n",
            "  File \"/usr/local/lib/python3.6/dist-packages/kaggle/api/kaggle_api_extended.py\", line 113, in authenticate\n",
            "    self.config_file, self.config_dir))\n",
            "OSError: Could not find kaggle.json. Make sure it's located in /root/.kaggle. Or use the environment method.\n",
            "unzip:  cannot find or open glove6b100dtxt.zip, glove6b100dtxt.zip.zip or glove6b100dtxt.zip.ZIP.\n"
          ],
          "name": "stdout"
        }
      ]
    },
    {
      "metadata": {
        "id": "5BoT0gc0dne9",
        "colab_type": "text"
      },
      "cell_type": "markdown",
      "source": [
        "## Appendix: Setup Kaggle on Google colab"
      ]
    },
    {
      "metadata": {
        "id": "GJ1Wm2ZJdtNX",
        "colab_type": "code",
        "colab": {}
      },
      "cell_type": "code",
      "source": [
        "!pip install -q kaggle"
      ],
      "execution_count": 0,
      "outputs": []
    },
    {
      "metadata": {
        "id": "ms_FinAqdt54",
        "colab_type": "code",
        "colab": {
          "resources": {
            "http://localhost:8080/nbextensions/google.colab/files.js": {
              "data": "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",
              "ok": true,
              "headers": [
                [
                  "content-type",
                  "application/javascript"
                ]
              ],
              "status": 200,
              "status_text": ""
            }
          },
          "base_uri": "https://localhost:8080/",
          "height": 55
        },
        "outputId": "a9ac5f79-f901-4803-f8b6-0ab9b46a055b"
      },
      "cell_type": "code",
      "source": [
        "from google.colab import files\n",
        "k_config = files.upload()"
      ],
      "execution_count": 0,
      "outputs": [
        {
          "output_type": "display_data",
          "data": {
            "text/html": [
              "\n",
              "     <input type=\"file\" id=\"files-57f3e692-e879-4491-b100-67d26ff7d9f8\" name=\"files[]\" multiple disabled />\n",
              "     <output id=\"result-57f3e692-e879-4491-b100-67d26ff7d9f8\">\n",
              "      Upload widget is only available when the cell has been executed in the\n",
              "      current browser session. Please rerun this cell to enable.\n",
              "      </output>\n",
              "      <script src=\"/nbextensions/google.colab/files.js\"></script> "
            ],
            "text/plain": [
              "<IPython.core.display.HTML object>"
            ]
          },
          "metadata": {
            "tags": []
          }
        }
      ]
    },
    {
      "metadata": {
        "id": "Mhx5-CuCeJpn",
        "colab_type": "code",
        "colab": {}
      },
      "cell_type": "code",
      "source": [
        "!mkdir -p ~/.kaggle\n",
        "!cp kaggle.json ~/.kaggle/\n",
        "!chmod 600 ~/.kaggle/kaggle.json\n"
      ],
      "execution_count": 0,
      "outputs": []
    },
    {
      "metadata": {
        "id": "3pdjuHGseNwI",
        "colab_type": "code",
        "colab": {}
      },
      "cell_type": "code",
      "source": [
        "!kaggle datasets download -d terenceliu4444/glove6b100dtxt\n",
        "!unzip glove6b100dtxt.zip"
      ],
      "execution_count": 0,
      "outputs": []
    }
  ]
}